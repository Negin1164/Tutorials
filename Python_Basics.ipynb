{
  "nbformat": 4,
  "nbformat_minor": 0,
  "metadata": {
    "colab": {
      "name": "Python_Assignment_Series_Basic.ipynb",
      "provenance": [],
      "authorship_tag": "ABX9TyO25TiE3FVB7hYfLvJSCbmd",
      "include_colab_link": true
    },
    "kernelspec": {
      "name": "python3",
      "display_name": "Python 3"
    },
    "language_info": {
      "name": "python"
    }
  },
  "cells": [
    {
      "cell_type": "markdown",
      "metadata": {
        "id": "view-in-github",
        "colab_type": "text"
      },
      "source": [
        "<a href=\"https://colab.research.google.com/github/Negin1164/Tutorials/blob/main/Python_Basics.ipynb\" target=\"_parent\"><img src=\"https://colab.research.google.com/assets/colab-badge.svg\" alt=\"Open In Colab\"/></a>"
      ]
    },
    {
      "cell_type": "markdown",
      "source": [
        "## **Data Types in Python:**\n",
        "\n",
        "1. [String Assignment](#Str_Asg)\n",
        "2. [Variable Assignment](#Var_Asg)\n",
        "3. [Data Type Assignment](#Dat_Asg)\n",
        "4. [Python Basics Assignment](#basic_Asg)\n",
        "5. [List Assignment](#List)\n",
        "6. [Dictionary Assignment](#Dict)\n",
        "7. [Set Assignment](#Set)\n",
        "8. [Conditional Statements Assignment](#Conditional_Statements)\n",
        "9. [For Loops Assignment](#For_Loops)\n"
      ],
      "metadata": {
        "id": "AETRkgdj0LFM"
      }
    },
    {
      "cell_type": "markdown",
      "source": [
        "## **1. String Assignment**\n",
        "<a name = 'Str_Asg'></a>"
      ],
      "metadata": {
        "id": "fgKVU0zz4d86"
      }
    },
    {
      "cell_type": "markdown",
      "source": [
        "### **Q1.1.** <br>\n",
        "a. Ask the user to enter their first name and surname in lower case. <br>\n",
        "b. Change the case to title case. <br>\n",
        "c. join them together. Display the finished result."
      ],
      "metadata": {
        "id": "Z4dwzF6nF8Nn"
      }
    },
    {
      "cell_type": "markdown",
      "source": [
        "### **Solution Q1.1.**"
      ],
      "metadata": {
        "id": "3EP7IiK7HrlZ"
      }
    },
    {
      "cell_type": "code",
      "execution_count": null,
      "metadata": {
        "colab": {
          "base_uri": "https://localhost:8080/"
        },
        "id": "auY1-g7b0JLU",
        "outputId": "df9566fb-c463-4e9c-f9cd-2e803a399fa7"
      },
      "outputs": [
        {
          "output_type": "stream",
          "name": "stdout",
          "text": [
            "Please enter your first name: jay\n",
            "Please enter your last name: fulton\n",
            "Jay Fulton\n",
            "Jay Fulton\n"
          ]
        }
      ],
      "source": [
        "# a.\n",
        "first_name = input('Please enter your first name: ')\n",
        "last_name = input('Please enter your last name: ')\n",
        "\n",
        "# b.\n",
        "first_name = first_name.title()\n",
        "last_name = last_name.title()\n",
        "\n",
        "# c. method 1\n",
        "full_name = first_name + ' ' + last_name\n",
        "print(full_name)\n",
        "\n",
        "# c. method 2\n",
        "full_name = ' '.join([first_name,last_name])\n",
        "print(full_name)"
      ]
    },
    {
      "cell_type": "markdown",
      "source": [
        "## **Q1.2.** <br>\n",
        "\n",
        "a. Ask the user to type in the first line of a poem Raven by Edgar Allen Poe and display the length of the string. <br>\n",
        "\n",
        "b. Ask for a starting number and an ending number and then display just that section of the text (remember Python starts counting from 0 and not 1).<br>\n",
        "\n",
        "**Here is the poem Raven:**\n",
        "\n",
        "Deep into that darkness peering,\n",
        "\n",
        "Long I stood there, wondering, fearing,\n",
        "\n",
        "Doubting, dreaming dreams no mortals\n",
        "\n",
        "Ever dared to dream before;\n",
        "\n",
        "But the silence was unbroken,\n",
        "\n",
        "And the stillness gave no token,\n",
        "\n",
        "And the only word there spoken\n",
        "\n",
        "Was the whispered word, \"Lenore!\"\n",
        "\n",
        "This I whispered, and an echo\n",
        "\n",
        "Murmured back the word, \"Lenore!\"\n",
        "\n",
        "Merely this, and nothing more."
      ],
      "metadata": {
        "id": "tG-vcksZ0ccc"
      }
    },
    {
      "cell_type": "markdown",
      "source": [
        "### **Solution Q1.2.**"
      ],
      "metadata": {
        "id": "OQxEPiiAHiXy"
      }
    },
    {
      "cell_type": "code",
      "source": [
        "# let's first save the poem in a variable:\n",
        "poem_original = \"\"\"\"Deep into that darkness peering,\n",
        "Long I stood there, wondering, fearing,\n",
        "Doubting, dreaming dreams no mortals\n",
        "Ever dared to dream before;\n",
        "But the silence was unbroken,\n",
        "And the stillness gave no token,\n",
        "And the only word there spoken\n",
        "Was the whispered word, \"Lenore!\"\n",
        "This I whispered, and an echo\n",
        "Murmured back the word, \"Lenore!\"\n",
        "Merely this, and nothing more.\n",
        "\"\"\"\n",
        "\n",
        "# a. method 1\n",
        "poem = 'Deep into that darkness peering,'\n",
        "poem = poem.strip()\n",
        "print('method 1 - output')\n",
        "print(f'poem first line: {poem}')\n",
        "print('Number of characters: {}\\n'.format(len(poem)))\n",
        "\n",
        "# a. method 2\n",
        "poem = input('Please type in the first line of a poem Raven by Edgar Allen Poe: ')\n",
        "poem = poem.strip()\n",
        "print('method 2 - output')\n",
        "print(f'poem first line: {poem}')\n",
        "print('Number of characters: {}\\n'.format(len(poem)))\n",
        "\n",
        "# a. method 3\n",
        "poem = poem_original[poem_original.index('Deep'):poem_original.index('Long')]\n",
        "poem = poem.strip()\n",
        "print('method 3 - output')\n",
        "print(f'poem first line: {poem}')\n",
        "print('Number of characters: {}\\n'.format(len(poem)))"
      ],
      "metadata": {
        "colab": {
          "base_uri": "https://localhost:8080/"
        },
        "id": "HkfIIaX7Rlri",
        "outputId": "7f5e0817-d1e7-434a-ce61-580eb4177d91"
      },
      "execution_count": null,
      "outputs": [
        {
          "output_type": "stream",
          "name": "stdout",
          "text": [
            "method 1 - output\n",
            "poem first line: Deep into that darkness peering,\n",
            "Number of characters: 32\n",
            "\n",
            "Please type in the first line of a poem Raven by Edgar Allen Poe: Deep into that darkness peering,\n",
            "method 2 - output\n",
            "poem first line: Deep into that darkness peering,\n",
            "Number of characters: 32\n",
            "\n",
            "method 3 - output\n",
            "poem first line: Deep into that darkness peering,\n",
            "Number of characters: 32\n",
            "\n"
          ]
        }
      ]
    },
    {
      "cell_type": "code",
      "source": [
        "# b. method 1\n",
        "print('By choosing two inters as the starting index and ending index, you can extract the corresponding characters from the text!')\n",
        "starting_index = input(f'\\nChoose a staring index in the range of 0 - {len(poem_original)} (length of the text): ')\n",
        "ending_index = input(f'\\nChoose an ending index in the range of 0 - {len(poem_original)} (length of the text): ')\n",
        "\n",
        "# input() function returns string type data, and therefore the starting_index and ending_index has to be converted\n",
        "# to numeric values before using them with indexing method to extract the characters.\n",
        "\n",
        "starting_index, ending_index = int(starting_index), int(ending_index)\n",
        "extracted_characters = poem_original[starting_index:ending_index]\n",
        "print(f'\\nExtracted characters from the poem:\\n\"{extracted_characters}\"')"
      ],
      "metadata": {
        "colab": {
          "base_uri": "https://localhost:8080/"
        },
        "id": "5C2gMHkNRued",
        "outputId": "ba9105d4-ae7b-446e-f734-9ca81a89e5cd"
      },
      "execution_count": null,
      "outputs": [
        {
          "output_type": "stream",
          "name": "stdout",
          "text": [
            "By choosing the starting index and ending index, you can extract the corresponding characters from the text!\n",
            "\n",
            "Choose a staring index in the range of 0 - 363 (length of the text): 4\n",
            "\n",
            "Choose an ending index in the range of 0 - 363 (length of the text): 50\n",
            "\n",
            "Extracted characters from the poem:\n",
            "ep into that darkness peering,\n",
            "Long I stood th\n"
          ]
        }
      ]
    },
    {
      "cell_type": "code",
      "source": [
        "# b. method 2, more efficient\n",
        "\n",
        "Indexes = input(f\"\"\"\\nChoose a staring index and an ending index\n",
        "both in the range of 0 - {len(poem_original)} (length of the text): ex: 4,20: \"\"\")\n",
        "\n",
        "print('Indexes: {}, type: {}'.format(Indexes, type(Indexes)))\n",
        "Indexes = Indexes.strip().split(',')\n",
        "starting_index, ending_index = int(Indexes[0]), int(Indexes[1])\n",
        "\n",
        "extracted_characters = poem_original[starting_index:ending_index]\n",
        "\n",
        "print(f'\\nExtracted characters from the poem:\\n\"{extracted_characters}\"')"
      ],
      "metadata": {
        "colab": {
          "base_uri": "https://localhost:8080/"
        },
        "id": "5t3uq8GqJ3YC",
        "outputId": "172e0440-73c4-400a-8976-97a9e3ee1593"
      },
      "execution_count": null,
      "outputs": [
        {
          "output_type": "stream",
          "name": "stdout",
          "text": [
            "\n",
            "Choose a staring index and an ending index \n",
            "both in the range of 0 - 363 (length of the text): ex: 4,20: 4,100\n",
            "Indexes: 4,100, type: <class 'str'>\n",
            "\n",
            "Extracted characters from the poem:\n",
            "ep into that darkness peering,\n",
            "Long I stood there, wondering, fearing,\n",
            "Doubting, dreaming dreams\n"
          ]
        }
      ]
    },
    {
      "cell_type": "code",
      "source": [
        "# b. method 3, more efficient and flexible\n",
        "\n",
        "Indexes = input(f\"\"\"\\nChoose a staring index and an ending index\n",
        "both in the range of 0 - {len(poem_original)} (length of the text): ex: 4,20: \"\"\")\n",
        "\n",
        "print('Indexes: {}, type: {}'.format(Indexes, type(Indexes)))\n",
        "Indexes = Indexes.strip().split(',')\n",
        "starting_index, ending_index = int(Indexes[0]), int(Indexes[1])\n",
        "\n",
        "\n",
        "if starting_index< ending_index:\n",
        "  extracted_characters = poem_original[starting_index:ending_index]\n",
        "  print(f'\\nExtracted characters from the poem:\\n\"{extracted_characters}\"')\n",
        "else:\n",
        "  extracted_characters = poem_original[ending_index:starting_index]\n",
        "  print(f'\\nExtracted characters from the poem:\\n\"{extracted_characters}\"')\n",
        "\n",
        "  extracted_characters = poem_original[starting_index:ending_index:-1]\n",
        "  print(f'\\nExtracted characters from the poem in reverse order:\\n\"{extracted_characters}\"')"
      ],
      "metadata": {
        "colab": {
          "base_uri": "https://localhost:8080/"
        },
        "id": "iBGvFQVh0eKz",
        "outputId": "e3c622e7-e75e-4ac5-871f-c5d1eca1bb22"
      },
      "execution_count": null,
      "outputs": [
        {
          "output_type": "stream",
          "name": "stdout",
          "text": [
            "\n",
            "Choose a staring index and an ending index \n",
            "both in the range of 0 - 362 (length of the text): ex: 4,20: 20,6\n",
            "Indexes: 20,6, type: <class 'str'>\n",
            "\n",
            "Extracted characters from the poem:\n",
            "\"into that dark\"\n",
            "\n",
            "Extracted characters from the poem in reverse order:\n",
            "\"nkrad taht otn\"\n"
          ]
        }
      ]
    },
    {
      "cell_type": "markdown",
      "source": [
        "### **Q1.3.** <br>\n",
        "\n",
        "Remove extra characters from the start and end of a string and explain why you need to remove white spaces while exploring text.\n",
        "\n",
        "The reason why we remove it is because Python process these white space and if we have no idea about white spaces, there cannot properly process the text."
      ],
      "metadata": {
        "id": "Uu8iACPy0e7v"
      }
    },
    {
      "cell_type": "markdown",
      "source": [
        "### **Solution Q1.3.** <br>"
      ],
      "metadata": {
        "id": "W7Qcy9Blha2A"
      }
    },
    {
      "cell_type": "code",
      "source": [
        "string = '  Deep into that darkness peering,         '\n",
        "print(f'string before applying strip method: \"{string}\"')\n",
        "#print('{}'.format(string))\n",
        "string = string.strip()\n",
        "string = string.strip(',')\n",
        "print(f'string after applying strip method: \"{string}\"')"
      ],
      "metadata": {
        "colab": {
          "base_uri": "https://localhost:8080/"
        },
        "id": "UiXhnRB80fYp",
        "outputId": "962aa0ca-f070-4e67-d9bb-3266b5e417f8"
      },
      "execution_count": null,
      "outputs": [
        {
          "output_type": "stream",
          "name": "stdout",
          "text": [
            "string before applying strip method: \"  Deep into that darkness peering,         \"\n",
            "string after applying strip method: \"Deep into that darkness peering\"\n"
          ]
        }
      ]
    },
    {
      "cell_type": "markdown",
      "source": [
        "## **2. Variable Assignment**\n",
        "<a name = 'Var_Asg'></a>"
      ],
      "metadata": {
        "id": "EA7Lj6Ab4_aa"
      }
    },
    {
      "cell_type": "markdown",
      "source": [
        "### **Q2.1.** <br>\n",
        "\n",
        "Define two variables as x and y. Assign 1 to x and '1' to y. Then check if two variables have the same value and type."
      ],
      "metadata": {
        "id": "rSndEa3N5f2-"
      }
    },
    {
      "cell_type": "markdown",
      "source": [
        "### **Solution Q2.1.** <br>"
      ],
      "metadata": {
        "id": "TrClItYxhhKU"
      }
    },
    {
      "cell_type": "code",
      "source": [
        "# variable assignment\n",
        "# method 1\n",
        "x = 1\n",
        "y = '1'\n",
        "\n",
        "# method 2\n",
        "x = 1; y = str(1)\n",
        "\n",
        "# method 3\n",
        "x,y = 1,'1'\n",
        "\n",
        "print(f'Is x={x} equal to y={y}? {x == y}')\n",
        "print('Why? both are 1!')\n",
        "\n",
        "print(f'Yes, both are one! but notice that x is {type(x)} while y is {type(y)}')\n",
        "\n",
        "type(x) == type(y)"
      ],
      "metadata": {
        "colab": {
          "base_uri": "https://localhost:8080/"
        },
        "id": "E2y6D7Q-5IrV",
        "outputId": "74810fe1-6059-491a-b629-8a96246be00a"
      },
      "execution_count": null,
      "outputs": [
        {
          "output_type": "stream",
          "name": "stdout",
          "text": [
            "Is x=1 equal to y=1? False\n",
            "Why? both are 1!\n",
            "Yes, both are one! but notice that x is <class 'int'> while y is <class 'str'>\n"
          ]
        },
        {
          "output_type": "execute_result",
          "data": {
            "text/plain": [
              "False"
            ]
          },
          "metadata": {},
          "execution_count": 47
        }
      ]
    },
    {
      "cell_type": "markdown",
      "source": [
        "### **Q2.2.**\n",
        "Change the type of variable y and make the two variables the same."
      ],
      "metadata": {
        "id": "L-3YWRty5jP8"
      }
    },
    {
      "cell_type": "markdown",
      "source": [
        "### **Solution Q2.2.** <br>"
      ],
      "metadata": {
        "id": "SUMOjKvihnrg"
      }
    },
    {
      "cell_type": "code",
      "source": [
        "y = int(y)\n",
        "print(x == y)\n",
        "print(type(x) == type(y))"
      ],
      "metadata": {
        "colab": {
          "base_uri": "https://localhost:8080/"
        },
        "id": "vH_YZmzo5ioG",
        "outputId": "55496e41-4d13-4c08-ccb6-aceaaa36c60e"
      },
      "execution_count": null,
      "outputs": [
        {
          "output_type": "stream",
          "name": "stdout",
          "text": [
            "True\n",
            "True\n"
          ]
        }
      ]
    },
    {
      "cell_type": "markdown",
      "source": [
        "## **3. Data Type Assignment**\n",
        "<a name = 'Dat_Asg'></a>"
      ],
      "metadata": {
        "id": "_ixBDMyk5JGJ"
      }
    },
    {
      "cell_type": "markdown",
      "source": [
        "### **Q3.1.**\n",
        "Suppose you invested in Bitcoin at the end of 2020 when Bitcoin gained a lot of value. What would be your money at the end of a week if you had invested $1000 with an average daily increase of 12% ?\n",
        "\n",
        "\n",
        "Help\n",
        "\n",
        "Create a variable capital ($1000)\n",
        "\n",
        "Create a variable for daily growth (12%)\n",
        "\n",
        "Create a variable for period (7)\n",
        "\n",
        "Calculate the final growth rate\n",
        "\n",
        "Calculate result\n",
        "\n",
        "Print result\n",
        "\n",
        "\n",
        "$$\\text{Ending Investment} = \\text{Start Amount} \\times (1 + \\text{Interest Rate}) ^ {\\Large{n}}$$"
      ],
      "metadata": {
        "id": "WBkF-krv6OYL"
      }
    },
    {
      "cell_type": "markdown",
      "source": [
        "### **Solution Q3.1.** <br>"
      ],
      "metadata": {
        "id": "LyLIVZJfh0e2"
      }
    },
    {
      "cell_type": "code",
      "source": [
        "start_amount = 1000\n",
        "daily_growth_rate = 12\n",
        "period = 7\n",
        "\n",
        "ending_investment = start_amount*pow(1+daily_growth_rate*0.01,period)\n",
        "final_growth_rate = ending_investment - start_amount\n",
        "\n",
        "print(round(ending_investment,3))"
      ],
      "metadata": {
        "colab": {
          "base_uri": "https://localhost:8080/"
        },
        "id": "sHPIZeKG5PTp",
        "outputId": "c48573f7-f570-4016-f52b-1442f64a732c"
      },
      "execution_count": null,
      "outputs": [
        {
          "output_type": "stream",
          "name": "stdout",
          "text": [
            "2210.681\n"
          ]
        }
      ]
    },
    {
      "cell_type": "code",
      "source": [
        "# let's plot the daily growth of the investment over 7 days\n",
        "import matplotlib.pyplot as plt\n",
        "import pandas as pd\n",
        "import numpy as np\n",
        "\n",
        "start_amount = 1000\n",
        "start_amount_array = start_amount * np.ones(7)\n",
        "# or\n",
        "#start_amount_array = start_amount + np.zeros(7)\n",
        "\n",
        "start_amount_array = pd.Series(start_amount_array, index=range(1,period+1))\n",
        "ending_investment = [start_amount*pow(1+daily_growth_rate*0.01,n) for n in range(1,period+1)]\n",
        "\n",
        "plt.figure(figsize=(5,5))\n",
        "plt.plot(start_amount_array, label='Initial investment')\n",
        "plt.plot(start_amount_array.index,ending_investment, label='investment growth over 7 days')\n",
        "plt.xlim(1,7)\n",
        "plt.ylim(0,ending_investment[-1]+1000)\n",
        "plt.xlabel('Day1 to Day 7')\n",
        "plt.ylabel('Investment')\n",
        "plt.legend()\n",
        "\n",
        "plt.show()"
      ],
      "metadata": {
        "colab": {
          "base_uri": "https://localhost:8080/",
          "height": 334
        },
        "id": "o8Rm3PgbUlSs",
        "outputId": "d10c4d42-324b-426c-8b5e-738917d85c2e"
      },
      "execution_count": null,
      "outputs": [
        {
          "output_type": "display_data",
          "data": {
            "text/plain": [
              "<Figure size 360x360 with 1 Axes>"
            ],
            "image/png": "[encoded data removed]"
          },
          "metadata": {
            "needs_background": "light"
          }
        }
      ]
    },
    {
      "cell_type": "markdown",
      "source": [
        "### **Q3.2.**\n",
        "Print the text in quotes with Python. However, you must get the numbers from variables using .format() notation. Because the text is long, you might consider writing in two lines:\n",
        "\"When we buy bitcoin with 1000 USD at the beginning of the week, we would earn 1210.68 USD at the end of the week, with an average gain of 12\\%.\"\n"
      ],
      "metadata": {
        "id": "JAra7fYX6SCL"
      }
    },
    {
      "cell_type": "markdown",
      "source": [
        "### **Solution Q3.2.** <br>"
      ],
      "metadata": {
        "id": "0dsdQB4th6Fx"
      }
    },
    {
      "cell_type": "code",
      "source": [
        "x = 1000\n",
        "y = 1210.68\n",
        "z = 12\n",
        "\n",
        "print(\"\"\"When we buy bitcoin with {0} USD at the beginning of the week,\n",
        "we would earn {1} USD at the end of the week, with an average gain of {2}%\"\"\".format(x,y,z))"
      ],
      "metadata": {
        "colab": {
          "base_uri": "https://localhost:8080/"
        },
        "id": "p1FSHfzk6XDY",
        "outputId": "207142f9-9c27-4232-c580-bb4c74ecaf15"
      },
      "execution_count": null,
      "outputs": [
        {
          "output_type": "stream",
          "name": "stdout",
          "text": [
            "When we buy bitcoin with 1000 USD at the beginning of the week, \n",
            "we would earn 1210.68 USD at the end of the week, with an average gain of 12%\n"
          ]
        }
      ]
    },
    {
      "cell_type": "markdown",
      "source": [
        "### **Q3.3.**\n",
        "\n",
        "Get the temperature in Fahrenheit from user and write a code to convert it to Celcius. For conversion, you can use this formula: C = (5/9) * (F - 32)\n",
        "Enter the temperature in Fahrenheit:\n",
        "\n",
        "user --> 26\n",
        "\n",
        "output --> Temperature (C) : -3.33"
      ],
      "metadata": {
        "id": "qBbinyj36Xja"
      }
    },
    {
      "cell_type": "markdown",
      "source": [
        "### **Solution Q3.3.**"
      ],
      "metadata": {
        "id": "cvhfzGUviBpp"
      }
    },
    {
      "cell_type": "code",
      "source": [
        "temp = input('Please enter temperature \\N{DEGREE SIGN}F (Fahrenheit): ')\n",
        "temp_celcius = (5/9)*(float(temp)-32)\n",
        "\n",
        "# print - method 1\n",
        "print('Temperature: {:.2f}\\N{DEGREE SIGN}C'.format(temp_celcius))\n",
        "\n",
        "# print - method 2\n",
        "print(f'Temperature: {temp_celcius:.2f}\\N{DEGREE SIGN}C')"
      ],
      "metadata": {
        "colab": {
          "base_uri": "https://localhost:8080/"
        },
        "id": "_6rmyrWo6bQr",
        "outputId": "31bb01a6-c3cc-4557-dc3b-c638f062223f"
      },
      "execution_count": null,
      "outputs": [
        {
          "output_type": "stream",
          "name": "stdout",
          "text": [
            "Please enter temperature °F (Fahrenheit): 32\n",
            "Temperature: 0.00°C\n",
            "Temperature: 0.00°C\n"
          ]
        }
      ]
    },
    {
      "cell_type": "markdown",
      "source": [
        "### **Q3.4.**\n",
        "\n",
        "Get a three digit number the from user and calculate the sum of the digits in the integer.\n",
        "user --> 365\n",
        "\n",
        "output --> \"The sum of digits in the number is 14"
      ],
      "metadata": {
        "id": "BMYuiHph6brz"
      }
    },
    {
      "cell_type": "markdown",
      "source": [
        "### **Solution Q3.4.** <br>"
      ],
      "metadata": {
        "id": "uzxMS7oWiJHT"
      }
    },
    {
      "cell_type": "code",
      "source": [
        "# method 1\n",
        "\n",
        "nums = str(365) # convert the digit into an iterable data type that allows indexing method!\n",
        "sum = int(nums[0]) + int(nums[1]) + int(nums[2])\n",
        "print(sum)"
      ],
      "metadata": {
        "colab": {
          "base_uri": "https://localhost:8080/",
          "height": 37
        },
        "id": "XmZxKznpeE5k",
        "outputId": "fe52bde1-c8c4-4589-817d-5a371954114a"
      },
      "execution_count": null,
      "outputs": [
        {
          "output_type": "execute_result",
          "data": {
            "text/plain": [
              "'3'"
            ],
            "application/vnd.google.colaboratory.intrinsic+json": {
              "type": "string"
            }
          },
          "metadata": {},
          "execution_count": 160
        }
      ]
    },
    {
      "cell_type": "code",
      "source": [
        "# method 2\n",
        "nums = input('Please enter a 3 digits number: ')\n",
        "sum = int(nums[0]) + int(nums[1]) + int(nums[2])\n",
        "print('final sum = {}'.format(sum))"
      ],
      "metadata": {
        "colab": {
          "base_uri": "https://localhost:8080/"
        },
        "id": "t94eFQFcgV5p",
        "outputId": "c8392231-6149-4f0b-caa1-56f490a5db6c"
      },
      "execution_count": null,
      "outputs": [
        {
          "output_type": "stream",
          "name": "stdout",
          "text": [
            "Please enter a 3 digits number: 365\n",
            "final sum = 14\n"
          ]
        }
      ]
    },
    {
      "cell_type": "code",
      "source": [
        "# method 3\n",
        "nums = input('Please enter a 3 digits number: ')\n",
        "sum = int(nums[0]) + int(nums[1]) + int(nums[2])\n",
        "\n",
        "sum = 0\n",
        "print(f'initial value of sum = {sum}\\n')\n",
        "\n",
        "for i in nums:\n",
        "  #print(i)\n",
        "  print(f'{sum} + {i} = {sum + int(i)}')\n",
        "  sum = sum + int(i)\n",
        "\n",
        "print('\\nfinal sum = {}'.format(sum))"
      ],
      "metadata": {
        "colab": {
          "base_uri": "https://localhost:8080/"
        },
        "id": "-drTHwon6heo",
        "outputId": "4d4a2115-d64a-4f7b-8c25-d5a4dc98a90e"
      },
      "execution_count": null,
      "outputs": [
        {
          "output_type": "stream",
          "name": "stdout",
          "text": [
            "Please enter a 3 digits number: 365\n",
            "initial value of sum = 0\n",
            "\n",
            "0 + 3 = 3\n",
            "3 + 6 = 9\n",
            "9 + 5 = 14\n",
            "\n",
            "final sum = 14\n"
          ]
        }
      ]
    },
    {
      "cell_type": "markdown",
      "source": [
        "### **Q3.5.** <br>\n",
        "\n",
        "Write some code to calculate the hypotenuse of a right angled triangle. Get the side lengths from the user.\n",
        "user --> first side lenth : 6\n",
        "\n",
        "user --> first side lenth : 8\n",
        "\n",
        "output --> \"The length of the hypotenuse is 10"
      ],
      "metadata": {
        "id": "RzuLrS946h21"
      }
    },
    {
      "cell_type": "markdown",
      "source": [
        "### **Solution Q3.5.** <br>"
      ],
      "metadata": {
        "id": "A7nmq6NyiPRO"
      }
    },
    {
      "cell_type": "code",
      "source": [
        "nums = input('enter side lengths of a triangle: ex: 3,4: ')\n",
        "s1,s2 = nums.strip().split(',')\n",
        "\n",
        "\n",
        "hypotenuse_squared = float(s1)**2 + float(s2)**2\n",
        "# or\n",
        "hypotenuse_squared = pow(float(s1),2) + pow(float(s2),2)\n",
        "\n",
        "hypotenuse = pow(hypotenuse_squared,0.5)\n",
        "print('hypotenuse: {}'.format(hypotenuse))\n",
        "\n",
        "import math\n",
        "hypotenuse = math.sqrt(hypotenuse_squared)\n",
        "print('hypotenuse: {}'.format(hypotenuse))\n",
        "\n",
        "import numpy as np\n",
        "hypotenuse = np.sqrt(hypotenuse_squared)\n",
        "print('hypotenuse: {}'.format(hypotenuse))"
      ],
      "metadata": {
        "colab": {
          "base_uri": "https://localhost:8080/"
        },
        "id": "3m7T9LnlAmTg",
        "outputId": "c5cbc606-25e3-478b-e8f7-bf16be8b2262"
      },
      "execution_count": null,
      "outputs": [
        {
          "output_type": "execute_result",
          "data": {
            "text/plain": [
              "25.0"
            ]
          },
          "metadata": {},
          "execution_count": 170
        }
      ]
    },
    {
      "cell_type": "markdown",
      "source": [
        "## **4. Python Basics Assignment**\n",
        "<a name = 'basic_Asg'></a>\n"
      ],
      "metadata": {
        "id": "Go6thU-tOpRS"
      }
    },
    {
      "cell_type": "markdown",
      "source": [
        "### **Q4.1.**\n",
        " Write a code that outputs your name and surname in one line.\n"
      ],
      "metadata": {
        "id": "aEwBrgkCOsgU"
      }
    },
    {
      "cell_type": "markdown",
      "source": [
        "### **Solution Q4.1.** <br>"
      ],
      "metadata": {
        "id": "1Fvv079BiVDa"
      }
    },
    {
      "cell_type": "code",
      "source": [
        "print('Jay Fulton')"
      ],
      "metadata": {
        "colab": {
          "base_uri": "https://localhost:8080/"
        },
        "id": "WwPSgc5DPBGj",
        "outputId": "5d9b7064-a9a8-466c-fa69-0a8b75e19fe9"
      },
      "execution_count": null,
      "outputs": [
        {
          "output_type": "stream",
          "name": "stdout",
          "text": [
            "Jay Fulton\n"
          ]
        }
      ]
    },
    {
      "cell_type": "markdown",
      "source": [
        "### **Q4.2.** <br>\n",
        "Write a 1-line code that outputs your name and surname in two separate lines by using a single print() call.\n"
      ],
      "metadata": {
        "id": "zkPTGg4YPB__"
      }
    },
    {
      "cell_type": "markdown",
      "source": [
        "### **Solution Q4.2.** <br>"
      ],
      "metadata": {
        "id": "f0srAtzjiZQb"
      }
    },
    {
      "cell_type": "code",
      "source": [
        "print('Jay\\nFulton')\n",
        "\n",
        "print(\"\"\"\n",
        "Jay\n",
        "Fulton\n",
        "\"\"\")"
      ],
      "metadata": {
        "colab": {
          "base_uri": "https://localhost:8080/"
        },
        "id": "nicWpIA1PEhr",
        "outputId": "643359c4-f692-41d5-99a3-273a6a970434"
      },
      "execution_count": null,
      "outputs": [
        {
          "output_type": "stream",
          "name": "stdout",
          "text": [
            "Jay\n",
            "Fulton\n",
            "\n",
            "Jay\n",
            "Fulton\n",
            "\n"
          ]
        }
      ]
    },
    {
      "cell_type": "markdown",
      "source": [
        "### **Q4.3.**\n",
        "\n",
        " Use print() function that returns the following text. Notice the quotes in the text. Those quotes should be seen in the output!:\n",
        "\n",
        " `I don't want to be an \"artist\". I want to be a \"Data Scientist.\"`"
      ],
      "metadata": {
        "id": "RrcHZTR1PFG5"
      }
    },
    {
      "cell_type": "markdown",
      "source": [
        "### **Solution Q4.3.** <br>"
      ],
      "metadata": {
        "id": "DKfcOqueifsU"
      }
    },
    {
      "cell_type": "code",
      "source": [
        "print(\"\"\"I don't want to be an \"artist\". I want to be a \"Data Scientist.\" \"\"\")\n",
        "\n",
        "# or\n",
        "print('I don\\'t want to be an \\\"artist\\\". I want to be a \\\"Data Scientist.\\\" ')"
      ],
      "metadata": {
        "colab": {
          "base_uri": "https://localhost:8080/"
        },
        "id": "nJhkHvIyPFwV",
        "outputId": "be15a9fd-3604-4bfc-9994-4b898da1bca9"
      },
      "execution_count": null,
      "outputs": [
        {
          "output_type": "stream",
          "name": "stdout",
          "text": [
            "I don't want to be an \"artist\". I want to be a \"Data Scientist.\" \n",
            "I don't want to be an \"artist\". I want to be a \"Data Scientist.\" \n"
          ]
        }
      ]
    },
    {
      "cell_type": "markdown",
      "source": [
        "##5. **List Assignment**\n",
        "<a name = 'List'></a>\n",
        "\n",
        "\n",
        "\n"
      ],
      "metadata": {
        "id": "7_ME5hHi_zQ0"
      }
    },
    {
      "cell_type": "markdown",
      "source": [
        "### **Q5.1.**\n",
        "Write a code to compute the sum of the two lowest numbers and the two highest numbers in the following list.\n",
        "my_list = [34, 56, 76, 45, 2, 12, 67, 98, 37, 54, 66]\n"
      ],
      "metadata": {
        "id": "pDhD2K6sEezU"
      }
    },
    {
      "cell_type": "markdown",
      "source": [
        "### **Solution Q5.1.** <br>"
      ],
      "metadata": {
        "id": "n4FzfTx2zQgQ"
      }
    },
    {
      "cell_type": "code",
      "source": [
        "my_list = [34, 56, 76, 45, 2, 12, 67, 98, 37, 54, 66]\n",
        "\n",
        "print('Original List = {}'.format(my_list))\n",
        "\n",
        "my_list.sort(reverse=False)\n",
        "\n",
        "print('\\nSorted List = {}'.format(my_list))\n",
        "print(f\"\"\"\\nsum of the two lowest numbers and the two highest numbers: method 1: \"\"\")\n",
        "print('sum = ', my_list[0]+my_list[1]+my_list[-2]+my_list[-1])\n",
        "\n",
        "\n",
        "# create a sublist of the two lowest numbers and the two highest numbers\n",
        "print(f\"\"\"\\nsum of the two lowest numbers and the two highest numbers: method 2: \"\"\")\n",
        "\n",
        "L1 = my_list[:2] + my_list[-2:]\n",
        "sum(L1)\n",
        "\n",
        "print(\"\"\"\\nList of first two lowest numbers{0},\\n\n",
        "List of two highest numbers{1},\\n\n",
        "L1 = {0} + {1} = {2} \\n\"\"\".format(my_list[:2],my_list[-2:],L1))\n",
        "\n",
        "print('sum = sum(L1) = sum({}) = {}\\n'.format(L1, sum(L1)))\n",
        "\n",
        "print(f\"\"\"\\nsum of the two lowest numbers and the two highest numbers: method 3: \"\"\")\n",
        "L2  = my_list[:2]\n",
        "L2.extend(my_list[-2:])\n",
        "\n",
        "print('L1 = L2 ?', L1 == L2)\n",
        "print('sum = = sum(L2) = sum({}) = {}\\n'.format(L2, sum(L2)))"
      ],
      "metadata": {
        "colab": {
          "base_uri": "https://localhost:8080/"
        },
        "id": "SynhdTPV_ydP",
        "outputId": "e8a1dbbc-6f49-4e13-a2f5-fcd03376aeef"
      },
      "execution_count": null,
      "outputs": [
        {
          "output_type": "stream",
          "name": "stdout",
          "text": [
            "Original List = [34, 56, 76, 45, 2, 12, 67, 98, 37, 54, 66]\n",
            "\n",
            "Sorted List = [2, 12, 34, 37, 45, 54, 56, 66, 67, 76, 98]\n",
            "\n",
            "sum of the two lowest numbers and the two highest numbers: method 1: \n",
            "sum =  188\n",
            "\n",
            "sum of the two lowest numbers and the two highest numbers: method 2: \n",
            "\n",
            "List of first two lowest numbers[2, 12],\n",
            " \n",
            "List of two highest numbers[76, 98],\n",
            " \n",
            "L1 = [2, 12] + [76, 98] = [2, 12, 76, 98] \n",
            "\n",
            "sum = sum(L1) = sum([2, 12, 76, 98]) = 188\n",
            "\n",
            "\n",
            "sum of the two lowest numbers and the two highest numbers: method 3: \n",
            "L1 = L2 ? True\n",
            "sum = = sum(L2) = sum([2, 12, 76, 98]) = 188\n",
            "\n"
          ]
        }
      ]
    },
    {
      "cell_type": "markdown",
      "source": [
        "### **Q5.2.**\n",
        "The following two lists contain student names and scores. <br>\n",
        "<br>\n",
        "a. Write a code that gets the name from the user and prints the score of that student. <br>\n",
        "names = [\"David\", \"Michael\", \"John\", \"James\", \"Greg\", \"Mark\", \"William\", \"Richard\", \"Thomas\", \"Steven\", \"Mary\", \"Susan\", \"Maria\", \"Karen\", \"Lisa\", \"Linda\", \"Donna\", \"Patricia\", \"Debra\", \"Eric\"]\n",
        "<br>\n",
        "scores = [99, 87, 78, 86, 68, 94, 76, 97, 56, 98, 76, 87, 79, 90, 73, 93, 82, 69, 97, 98]\n",
        "<br>\n",
        "<br>\n",
        "b. By using the two lists above, what is the maximum score and how many students got that score?\n"
      ],
      "metadata": {
        "id": "GdJHPUWfFBf8"
      }
    },
    {
      "cell_type": "markdown",
      "source": [
        "### **Solution Q5.2.** <br>"
      ],
      "metadata": {
        "id": "FsX-HWAqzTqW"
      }
    },
    {
      "cell_type": "code",
      "source": [
        "# solution - a.\n",
        "names = [\"David\", \"Michael\", \"John\", \"James\",\n",
        "         \"Greg\", \"Mark\", \"William\", \"Richard\",\n",
        "         \"Thomas\", \"Steven\", \"Mary\", \"Susan\",\n",
        "         \"Maria\", \"Karen\", \"Lisa\", \"Linda\",\n",
        "         \"Donna\", \"Patricia\", \"Debra\", \"Eric\"]\n",
        "\n",
        "\n",
        "scores = [99, 87, 78, 86, 68, 94, 76, 97, 56, 98, 76, 87, 79, 90, 73, 93, 82, 69, 97, 98]\n",
        "\n",
        "print('number of students = number of scores? {}'.format(len(names) == len(scores)))\n",
        "\n",
        "# method 1 - using list method only\n",
        "N = input('Please enter the name of student to get the score: ')\n",
        "print('{} index = {}'.format(N, names.index(N)))\n",
        "print('{} score = {}'.format(N,scores[names.index(N)]))\n",
        "\n",
        "# method 2\n",
        "D = {\"David\": 99, \"Michael\": 87, \"John\": 78, \"James\": 86,\n",
        "     \"Greg\": 68, \"Mark\": 94, \"William\": 76, \"Richard\": 97,\n",
        "     \"Thomas\": 56, \"Steven\": 98, \"Mary\": 76, \"Susan\": 87,\n",
        "     \"Maria\": 79, \"Karen\": 90, \"Lisa\": 73, \"Linda\": 93,\n",
        "     \"Donna\": 82, \"Patricia\": 69, \"Debra\": 97, \"Eric\": 98}\n",
        "\n",
        "N = input('\\nPlease enter the name of student to get the score: ')\n",
        "D[N]\n",
        "D.get(N, 'Name does not exist in the list')\n",
        "\n",
        "\n",
        "# method 3\n",
        "zip(names,scores)\n",
        "list(zip(names,scores))\n",
        "\n",
        "for nam, grade in zip(names,scores):\n",
        "  print(nam, grade)\n",
        "\n",
        "D = dict(zip(names,scores))\n",
        "\n",
        "N = input('\\nPlease enter the name of student to get the score: ')\n",
        "D.get(N, 'Name does not exist in the list')"
      ],
      "metadata": {
        "id": "pUqK8VnBFDnk"
      },
      "execution_count": null,
      "outputs": []
    },
    {
      "cell_type": "code",
      "source": [
        "D"
      ],
      "metadata": {
        "colab": {
          "base_uri": "https://localhost:8080/"
        },
        "id": "fCiAWxCBQw33",
        "outputId": "8bddb850-02ab-4984-f4c1-8bbc3207da84"
      },
      "execution_count": null,
      "outputs": [
        {
          "output_type": "execute_result",
          "data": {
            "text/plain": [
              "{'David': 99,\n",
              " 'Debra': 97,\n",
              " 'Donna': 82,\n",
              " 'Eric': 98,\n",
              " 'Greg': 68,\n",
              " 'James': 86,\n",
              " 'John': 78,\n",
              " 'Karen': 90,\n",
              " 'Linda': 93,\n",
              " 'Lisa': 73,\n",
              " 'Maria': 79,\n",
              " 'Mark': 94,\n",
              " 'Mary': 76,\n",
              " 'Michael': 87,\n",
              " 'Patricia': 69,\n",
              " 'Richard': 97,\n",
              " 'Steven': 98,\n",
              " 'Susan': 87,\n",
              " 'Thomas': 56,\n",
              " 'William': 76}"
            ]
          },
          "metadata": {},
          "execution_count": 91
        }
      ]
    },
    {
      "cell_type": "code",
      "source": [
        "# solution - b\n",
        "scores = [99, 87, 78, 86, 68, 94, 76, 97, 56, 98, 76, 87, 79, 90, 73, 93, 82, 69, 97, 98]\n",
        "scores.count(max(scores))"
      ],
      "metadata": {
        "colab": {
          "base_uri": "https://localhost:8080/"
        },
        "id": "VymWRwZlFG1r",
        "outputId": "0b47cf2d-20e6-40fa-f915-3d50d97e6c71"
      },
      "execution_count": null,
      "outputs": [
        {
          "output_type": "stream",
          "name": "stdout",
          "text": [
            "David,Eric\n"
          ]
        }
      ]
    },
    {
      "cell_type": "code",
      "source": [
        "# if more than one student has got the max score:\n",
        "\n",
        "scores = [99, 87, 78, 86, 68, 94, 76, 97, 56, 98, 76, 87, 79, 90, 73, 93, 82, 69, 97, 99]\n",
        "scores.count(max(scores))\n",
        "names[scores.index(max(scores))]\n",
        "\n",
        "import numpy as np\n",
        "index = np.where(np.array(scores)==max(scores))[0]\n",
        "\n",
        "for i in index:\n",
        "  print('No.{}: {}\\n'.format(i, names[i]))"
      ],
      "metadata": {
        "colab": {
          "base_uri": "https://localhost:8080/"
        },
        "id": "pNw17KGmW1RF",
        "outputId": "c6295d62-c98d-478d-9a33-c7a849786b8a"
      },
      "execution_count": null,
      "outputs": [
        {
          "output_type": "stream",
          "name": "stdout",
          "text": [
            "No.0: David\n",
            "\n",
            "No.19: Eric\n",
            "\n"
          ]
        }
      ]
    },
    {
      "cell_type": "markdown",
      "source": [
        "### **Q5.3.**\n",
        "We can confuse about how many days a month is. <br>\n",
        "<br>\n",
        "a. Create a list to handle it. You will have month names and day counts in your list together as a nested list.\n",
        "<br><br>\n",
        "b. Now create lists of months for each season. Get month names and day counts from the list that you create before with slicing. Name the lists with seasons.\n",
        "<br><br>\n",
        "c- Finally, from the list in the previous question, calculate how many days the summer season lasts.\n"
      ],
      "metadata": {
        "id": "9dc5F43XFHMA"
      }
    },
    {
      "cell_type": "markdown",
      "source": [
        "### **Solution Q5.3.** <br>"
      ],
      "metadata": {
        "id": "MDoKR4vezeR3"
      }
    },
    {
      "cell_type": "code",
      "source": [
        "# solution a\n",
        "\n",
        "Month_List = ['January','February','March','April','May','Jun',\n",
        "              'July','Aug','September','November','October','December']\n",
        "\n",
        "Day_counts = [31,28,31,30,31,30,31,31,30,31,30,31]\n",
        "\n",
        "# method 1\n",
        "Month_nested_List = [['December',31],['January',31],['February',28],['March',31],['April',30],['May',31],['Jun',30],\n",
        "              ['July',31],['Aug',31],['September',30],['October',31],['November',30]]\n",
        "\n",
        "\n",
        "Month_dictionary = dict(zip(Month_List,Day_counts))\n",
        "Month_dictionary\n"
      ],
      "metadata": {
        "colab": {
          "base_uri": "https://localhost:8080/"
        },
        "id": "WnPSGt5ZFJkf",
        "outputId": "7dc17973-5ad6-44f1-e9cb-69039decc099"
      },
      "execution_count": null,
      "outputs": [
        {
          "output_type": "execute_result",
          "data": {
            "text/plain": [
              "{'April': 30,\n",
              " 'Aug': 31,\n",
              " 'December': 31,\n",
              " 'February': 28,\n",
              " 'January': 31,\n",
              " 'July': 31,\n",
              " 'Jun': 30,\n",
              " 'March': 31,\n",
              " 'May': 31,\n",
              " 'November': 31,\n",
              " 'October': 30,\n",
              " 'September': 30}"
            ]
          },
          "metadata": {},
          "execution_count": 176
        }
      ]
    },
    {
      "cell_type": "code",
      "source": [
        "# solution - b:\n",
        "i = 0\n",
        "Winter = Month_nested_List[i:i+3]\n",
        "Spring = Month_nested_List[i+3:i+6]\n",
        "Summer = Month_nested_List[i+6:i+9]\n",
        "Autumn = Month_nested_List[i+9:i+12]\n",
        "\n",
        "Seasons = [['Winter',Winter],\n",
        "           ['Spring',Spring],\n",
        "           ['Summer',Summer],\n",
        "           ['Autumn',Autumn]]\n",
        "\n",
        "Seasons"
      ],
      "metadata": {
        "colab": {
          "base_uri": "https://localhost:8080/"
        },
        "id": "GJg9Vf3PFLs1",
        "outputId": "105e6868-d660-492e-97af-7e6bd1ed40e2"
      },
      "execution_count": null,
      "outputs": [
        {
          "output_type": "execute_result",
          "data": {
            "text/plain": [
              "[['Winter', [['December', 31], ['January', 31], ['February', 28]]],\n",
              " ['Spring', [['March', 31], ['April', 30], ['May', 31]]],\n",
              " ['Summer', [['Jun', 30], ['July', 31], ['Aug', 31]]],\n",
              " ['Autumn', [['September', 30], ['October', 31], ['November', 30]]]]"
            ]
          },
          "metadata": {},
          "execution_count": 200
        }
      ]
    },
    {
      "cell_type": "code",
      "source": [
        "# solution - c:\n",
        "\n",
        "Seasons[2][1][0][1] + Seasons[2][1][1][1] + Seasons[2][1][2][1]\n",
        "\n",
        "sum = 0\n",
        "for i in range(len(Summer)):\n",
        "  sum += Summer[i][1]\n",
        "\n",
        "print('Total number of days in summer season = {}'.format(sum))"
      ],
      "metadata": {
        "colab": {
          "base_uri": "https://localhost:8080/"
        },
        "id": "r62nCBEchx6e",
        "outputId": "af942904-fb0a-488b-fb25-9c9f2f085cdd"
      },
      "execution_count": null,
      "outputs": [
        {
          "output_type": "stream",
          "name": "stdout",
          "text": [
            "Total number of days in summer season = 92\n"
          ]
        }
      ]
    },
    {
      "cell_type": "markdown",
      "source": [
        "**Find the number of days in the current month**"
      ],
      "metadata": {
        "id": "k8m5cOEKzpyL"
      }
    },
    {
      "cell_type": "code",
      "source": [
        "from datetime import datetime\n",
        "import calendar\n",
        "#number of days in current month\n",
        "calendar.monthrange(datetime.today().year, datetime.today().month)[1]\n",
        "\n",
        "# days in month\n",
        "\n",
        "def leap_year(year):\n",
        "    if year % 400 == 0:\n",
        "        return True\n",
        "    if year % 100 == 0:\n",
        "        return False\n",
        "    if year % 4 == 0:\n",
        "        return True\n",
        "    return False\n",
        "\n",
        "def days_in_month(month, year):\n",
        "    if month in {1, 3, 5, 7, 8, 10, 12}:\n",
        "        return 31\n",
        "    if month == 2:\n",
        "        if leap_year(year):\n",
        "            print('Leap year')\n",
        "            return 29\n",
        "        return 28\n",
        "    return 30\n",
        "\n",
        "print(days_in_month(2, 1988))  # 29\n",
        "print(days_in_month(datetime.today().month,datetime.today().year))"
      ],
      "metadata": {
        "colab": {
          "base_uri": "https://localhost:8080/"
        },
        "id": "w6VHDUS6dS0m",
        "outputId": "8011c2d5-190b-41ec-8503-76d1320400e2"
      },
      "execution_count": null,
      "outputs": [
        {
          "output_type": "stream",
          "name": "stdout",
          "text": [
            "Leap year\n",
            "29\n"
          ]
        }
      ]
    },
    {
      "cell_type": "markdown",
      "source": [
        "[leap year](https://en.wikipedia.org/wiki/Leap_year)"
      ],
      "metadata": {
        "id": "GKUKSgWx1HgO"
      }
    },
    {
      "cell_type": "markdown",
      "source": [
        "##6. **Dictionary Assignment**\n",
        "<a name = 'Dict'></a>\n"
      ],
      "metadata": {
        "id": "e_iid37BA-iC"
      }
    },
    {
      "cell_type": "markdown",
      "source": [
        "### **Q6.1.**  \n",
        "\n",
        "a. Create a dictionary with 7 days. Ask the user to choose 2 different days by listing the (e.g. \"12\" for Monday and Tuesday). Delete the user-selected days from the dictionary and print the remaining 5 days on the screen."
      ],
      "metadata": {
        "id": "Z1gJectHmPEZ"
      }
    },
    {
      "cell_type": "markdown",
      "source": [
        "### **Solution Q6.1.** <br>"
      ],
      "metadata": {
        "id": "8gPzNKR1zxYo"
      }
    },
    {
      "cell_type": "code",
      "source": [
        "Days_dictioanry = {'1':'Monday',\n",
        "                   '2': 'Tuesday',\n",
        "                   '3': 'Wednesday',\n",
        "                   '4': 'Thursday',\n",
        "                   '5': 'Friday',\n",
        "                   '6': 'Saturday',\n",
        "                   '7': 'Sunday'}\n",
        "\n",
        "print(Days_dictioanry)\n",
        "\n",
        "N = input('\\nchoose 2 different days by listing the (e.g. \"12\" for Monday and Tuesday): ')\n",
        "\n",
        "for i in range(len(N)):\n",
        "  Days_dictioanry.pop(N[i])\n",
        "\n",
        "print('\\nRemaining days = {}'.format(Days_dictioanry.values()))"
      ],
      "metadata": {
        "id": "gy4qFTqKBEPw",
        "colab": {
          "base_uri": "https://localhost:8080/"
        },
        "outputId": "d4468d57-8c8a-4c89-dea1-85e16efcca0b"
      },
      "execution_count": null,
      "outputs": [
        {
          "output_type": "stream",
          "name": "stdout",
          "text": [
            "{'1': 'Monday', '2': 'Tuesday', '3': 'Wednesday', '4': 'Thursday', '5': 'Friday', '6': 'Saturday', '7': 'Sunday'}\n",
            "\n",
            "choose 2 different days by listing the (e.g. \"12\" for Monday and Tuesday): 34\n",
            "\n",
            "Remaining days = dict_values(['Monday', 'Tuesday', 'Friday', 'Saturday', 'Sunday'])\n"
          ]
        }
      ]
    },
    {
      "cell_type": "markdown",
      "source": [
        "### **Q6.2.**\n",
        "\n",
        "a. Create a dictionary with the following personnel. Use names as keys.\n",
        "<br><br>\n",
        "b. Add child information to Michael and Linda. Michael has two children (Karen (age : 12, female) and Greg (age : 7, male) and Linda has one child (Susan (age: 6, female))\n",
        "<br><br>\n",
        "c. Print the names of Michael's children in a list."
      ],
      "metadata": {
        "id": "3V_QOMR8mcbn"
      }
    },
    {
      "cell_type": "markdown",
      "source": [
        "### **Solution Q6.2.** <br>"
      ],
      "metadata": {
        "id": "sSG5Ewp8z-2u"
      }
    },
    {
      "cell_type": "code",
      "source": [
        "# solution a.\n",
        "personnel_dictionary = {'Michael','Linda','Greg'}"
      ],
      "metadata": {
        "id": "TOwJ9q7_meiw"
      },
      "execution_count": null,
      "outputs": []
    },
    {
      "cell_type": "code",
      "source": [
        "# solution b.\n",
        "personnel_dictionary = {'Michael' : {'Karen': {'age': 12, 'gender': 'female'}, 'Greg': {'age': 7, 'gender': 'male'}},\n",
        "                        'Linda': {'Karen': {'age': 6, 'gender': 'female'}}}"
      ],
      "metadata": {
        "id": "gx4OjmtGmhbc"
      },
      "execution_count": null,
      "outputs": []
    },
    {
      "cell_type": "code",
      "source": [
        "# solution c.\n",
        "personnel_dictionary['Michael'].keys()"
      ],
      "metadata": {
        "colab": {
          "base_uri": "https://localhost:8080/"
        },
        "id": "hZULi-gQmjWU",
        "outputId": "4d2dec14-389d-43d9-fd5a-1001c91b7989"
      },
      "execution_count": null,
      "outputs": [
        {
          "output_type": "execute_result",
          "data": {
            "text/plain": [
              "dict_keys(['Karen', 'Greg'])"
            ]
          },
          "metadata": {},
          "execution_count": 217
        }
      ]
    },
    {
      "cell_type": "markdown",
      "source": [
        "### **Q6.3.**\n",
        "\n",
        "We are providing you with a function called fillable to help you access a data dictionary and check for in-stock items. It takes three parameters as shown:\n",
        "def fillable(f_stock, f_merch, f_n):\n",
        "\n",
        "    A) f_stock takes the dictionary representing all the merchandise you have in stock.\n",
        "    B) f_merch takes the merchandise your customer wants to buy.\n",
        "    C) f_n takes the number of units of f_merch they would like to buy.\n",
        "\n",
        "Your job is to start by defining the dictionary called stock with the key value pairs of your merchandise. Use the following to populate your stock dictionary (merchandise, quantity):"
      ],
      "metadata": {
        "id": "SdR7QhiYrJsh"
      }
    },
    {
      "cell_type": "markdown",
      "source": [
        "### **Solution Q6.3.** <br>"
      ],
      "metadata": {
        "id": "UhXzw6Gc0Bxs"
      }
    },
    {
      "cell_type": "code",
      "source": [
        "stock = {'earbuds': 20,\n",
        "         'microphones': 72,\n",
        "         'speakers': 14,\n",
        "         'headsets': 59,\n",
        "         'webcams': 37}\n",
        "\n",
        "\n",
        "def fillable(f_stock, f_merch, f_n):\n",
        "  if f_stock[f_merch] >= f_n:\n",
        "    return True\n",
        "  else:\n",
        "    return False"
      ],
      "metadata": {
        "id": "Eh24Cjd-r2Av"
      },
      "execution_count": null,
      "outputs": []
    },
    {
      "cell_type": "markdown",
      "source": [
        "Next define a merch input string and give it a value of earbuds. Define a variable n and give it a value of 15."
      ],
      "metadata": {
        "id": "HA4ers0UsWNW"
      }
    },
    {
      "cell_type": "code",
      "source": [
        "# what your customer wants to buy\n",
        "merch = 'earbuds'\n",
        "n = 15\n",
        "avail_stock = fillable(stock, merch, n)\n",
        "\n",
        "# number of units of merch your customer wants to buy\n",
        "n = 15\n",
        "\n",
        "# store your results here\n",
        "avail_stock = fillable(stock, merch, n)\n",
        "\n",
        "#print your results\n",
        "print(avail_stock)"
      ],
      "metadata": {
        "colab": {
          "base_uri": "https://localhost:8080/"
        },
        "id": "XWpeFWBUsZZp",
        "outputId": "af638c96-a14e-488c-f42a-0bb3a81324bc"
      },
      "execution_count": null,
      "outputs": [
        {
          "output_type": "stream",
          "name": "stdout",
          "text": [
            "True\n"
          ]
        }
      ]
    },
    {
      "cell_type": "markdown",
      "source": [
        "##7. **Set Assignment**\n",
        "<a name = 'Set'></a>"
      ],
      "metadata": {
        "id": "asUXfQR1BEo7"
      }
    },
    {
      "cell_type": "markdown",
      "source": [
        "### **Q7.1.**\n",
        "Create a tuple named \"week\" containing weekdays."
      ],
      "metadata": {
        "id": "aHqFLHA6uJ2R"
      }
    },
    {
      "cell_type": "markdown",
      "source": [
        "### **Solution Q7.1.** <br>"
      ],
      "metadata": {
        "id": "RhdEjHPu0Et8"
      }
    },
    {
      "cell_type": "code",
      "source": [
        "Days_dictioanry = {'1':'Monday',\n",
        "                   '2': 'Tuesday',\n",
        "                   '3': 'Wednesday',\n",
        "                   '4': 'Thursday',\n",
        "                   '5': 'Friday',\n",
        "                   '6': 'Saturday',\n",
        "                   '7': 'Sunday'}\n",
        "\n",
        "tuple(Days_dictioanry.values())\n",
        "\n",
        "tuple(Days_dictioanry.values()) == ('Monday', 'Tuesday', 'Wednesday', 'Thursday', 'Friday', 'Saturday', 'Sunday')"
      ],
      "metadata": {
        "id": "TuIW-OoUBHWL",
        "colab": {
          "base_uri": "https://localhost:8080/"
        },
        "outputId": "a325b30b-da2c-4283-b1f3-aad6eb8a5679"
      },
      "execution_count": null,
      "outputs": [
        {
          "output_type": "execute_result",
          "data": {
            "text/plain": [
              "True"
            ]
          },
          "metadata": {},
          "execution_count": 242
        }
      ]
    },
    {
      "cell_type": "markdown",
      "source": [
        "### **Q7.2.**\n",
        "\n",
        "a. Create a set named \"fruits\" containing followings: apple, mango, orange\n",
        "<br><br>\n",
        "b. Create a new set named \"new_fruits\" containing followings: cherry, peach, apple, mango\n",
        "<br><br>\n",
        "c. Find the fruits which are in new_fruits but not in fruits.\n",
        "<br><br>\n",
        "d. Find the fruits which are in both new_fruits and fruits."
      ],
      "metadata": {
        "id": "DOfr95CyukAH"
      }
    },
    {
      "cell_type": "markdown",
      "source": [
        "### **Solution Q7.2.** <br>"
      ],
      "metadata": {
        "id": "S5Rsjxkf0GbU"
      }
    },
    {
      "cell_type": "code",
      "source": [
        "# a.\n",
        "fruits = {'apple','mango','orange'}\n",
        "\n",
        "# b.\n",
        "new_fruits = {'cherry','peach','apple','mango'}\n",
        "\n",
        "# c.\n",
        "print(new_fruits - fruits)\n",
        "\n",
        "# d.\n",
        "print(new_fruits | fruits)\n",
        "print(new_fruits | fruits == new_fruits.union(fruits))"
      ],
      "metadata": {
        "colab": {
          "base_uri": "https://localhost:8080/"
        },
        "id": "B_giWlg9uk1f",
        "outputId": "93849e7a-a5c1-468a-afa6-2e2c16441cc7"
      },
      "execution_count": null,
      "outputs": [
        {
          "output_type": "stream",
          "name": "stdout",
          "text": [
            "{'peach', 'cherry'}\n",
            "{'peach', 'apple', 'mango', 'orange', 'cherry'}\n",
            "True\n"
          ]
        }
      ]
    },
    {
      "cell_type": "markdown",
      "source": [
        "##8. **Conditional Statements Assignment**\n",
        "<a name = 'Conditional_Statements'></a>"
      ],
      "metadata": {
        "id": "p9QdG9fHBHzm"
      }
    },
    {
      "cell_type": "markdown",
      "source": [
        "### **Q8.1.**\n",
        "Ask the user to enter a number between 10 and 20 (inclusive). If they enter a number within this range, display the message “Thank you”, otherwise display the message “Incorrect answer”."
      ],
      "metadata": {
        "id": "zAYqyl3Gvy3y"
      }
    },
    {
      "cell_type": "markdown",
      "source": [
        "### **Solution Q8.1.** <br>"
      ],
      "metadata": {
        "id": "NkgnjdYG0Iue"
      }
    },
    {
      "cell_type": "code",
      "source": [
        "N = input('Please enter a number between 10 and 20 (inclusive): ')\n",
        "\n",
        "if float(N) in range(10,21):\n",
        "  print('\\nThank you!')\n",
        "else:\n",
        "  print('\\nIncorrect answer!')"
      ],
      "metadata": {
        "id": "xS91x5mgBJgu",
        "colab": {
          "base_uri": "https://localhost:8080/"
        },
        "outputId": "bcf04e5c-3bb9-4123-ff35-901bc7dab56c"
      },
      "execution_count": null,
      "outputs": [
        {
          "output_type": "stream",
          "name": "stdout",
          "text": [
            "Please enter a number between 10 and 20 (inclusive): 65\n",
            "\n",
            "Incorrect answer!\n"
          ]
        }
      ]
    },
    {
      "cell_type": "markdown",
      "source": [
        "### **Q8.2.**\n",
        "In this exercise, you will create a program that reads a letter of the alphabet from the user. According to the answer:\n",
        "\n",
        "If the user enters a, e, i, o, u, then your program should display a message indicating that the entered letter is a vowel.\n",
        "\n",
        "If the user enters y, then your program should display a message indicating that y is sometimes a vowel and sometimes a consonant.\n",
        "\n",
        "Otherwise, your program should display a message indicating that the letter is a consonant."
      ],
      "metadata": {
        "id": "ww3VBmeWv7FW"
      }
    },
    {
      "cell_type": "markdown",
      "source": [
        "### **Solution Q8.2.** <br>"
      ],
      "metadata": {
        "id": "zk1xXhmu0Kgj"
      }
    },
    {
      "cell_type": "code",
      "source": [
        "char = input('Please enter an alphabet character: ')\n",
        "char = char.strip()\n",
        "\n",
        "if char in 'aeiou':\n",
        "  print(f'\"{char}\" is a vowel')\n",
        "elif char.lower() == 'y':\n",
        "  print(f'y is sometimes a vowel and sometimes a consonant')\n",
        "elif char not in 'aeiou':\n",
        "  print(f' \"{char}\" is a consonant')"
      ],
      "metadata": {
        "colab": {
          "base_uri": "https://localhost:8080/"
        },
        "id": "09mIGKPzyT3q",
        "outputId": "cbf4af5b-ca87-4c7e-c418-d941b601992f"
      },
      "execution_count": null,
      "outputs": [
        {
          "output_type": "stream",
          "name": "stdout",
          "text": [
            "Please enter an alphabet character: \n",
            "\"\" is a vowel\n"
          ]
        }
      ]
    },
    {
      "cell_type": "code",
      "source": [
        "char = input('Please enter an alphabet character: ')\n",
        "char = char.strip()\n",
        "\n",
        "if char in 'aeiou' and char.isalpha():\n",
        "  print(f'\"{char}\" is a vowel')\n",
        "elif char.lower() == 'y':\n",
        "  print(f'y is sometimes a vowel and sometimes a consonant')\n",
        "elif char not in 'aeiou' and char.isalpha():\n",
        "  print(f'\"{char}\" is a consonant')\n",
        "else:\n",
        "  print(f'\"{char}\" is not an alphabet!')"
      ],
      "metadata": {
        "colab": {
          "base_uri": "https://localhost:8080/"
        },
        "id": "R-VilojdwrAm",
        "outputId": "278a92d2-d70e-4c2c-ca38-d1601e2659a1"
      },
      "execution_count": null,
      "outputs": [
        {
          "output_type": "stream",
          "name": "stdout",
          "text": [
            "Please enter an alphabet character: \n",
            "\"\" is not an alphabet!\n"
          ]
        }
      ]
    },
    {
      "cell_type": "markdown",
      "source": [
        "##9. **For Loops Assignment**\n",
        "<a name = 'For_Loops'></a>"
      ],
      "metadata": {
        "id": "fVkH-YhNBKDI"
      }
    },
    {
      "cell_type": "code",
      "source": [],
      "metadata": {
        "id": "3l_RQlhFBL9k"
      },
      "execution_count": null,
      "outputs": []
    }
  ]
}